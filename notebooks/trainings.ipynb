{
 "cells": [
  {
   "cell_type": "code",
   "execution_count": null,
   "metadata": {},
   "outputs": [],
   "source": [
    "import psycopg2\n",
    "from psycopg2.extras import DictCursor\n",
    "from psycopg2.errors import DuplicateColumn\n",
    "\n",
    "conn = psycopg2.connect('user=honomara dbname=honomara password=honomara')\n",
    "\n",
    "def get_data(sql):\n",
    "    with conn.cursor() as cur:\n",
    "        cur.execute(sql)\n",
    "        data = cur.fetchall()\n",
    "    return data\n",
    "\n",
    "def get_data_dict(sql):\n",
    "    with conn.cursor() as cur:\n",
    "        cur.execute(sql)\n",
    "        data = cur.fetchall()\n",
    "        col_name = [col.name for col in cur.description]\n",
    "    return [ dict(zip(col_name,d)) for d in data]\n",
    "\n",
    "def get_colname(table):\n",
    "    with conn.cursor() as cur:\n",
    "        cur.execute('SELECT * FROM {} LIMIT 1;'.format(table))\n",
    "        data = [col.name for col in cur.description]\n",
    "    return data\n",
    "\n",
    "def exec_transaction(sql):\n",
    "    with conn.cursor() as cur:\n",
    "        cur.execute(sql)\n",
    "    conn.commit()"
   ]
  },
  {
   "cell_type": "code",
   "execution_count": null,
   "metadata": {},
   "outputs": [],
   "source": [
    "# add training_id\n",
    "exec_transaction('''CREATE SEQUENCE IF NOT EXISTS training_id_seq ;''')\n",
    "try:\n",
    "    exec_transaction('''ALTER TABLE training ADD COLUMN training_id integer NOT NULL DEFAULT nextval('training_id_seq');''')\n",
    "except DuplicateColumn as err:\n",
    "    print(err)"
   ]
  },
  {
   "cell_type": "code",
   "execution_count": null,
   "metadata": {},
   "outputs": [],
   "source": [
    "import mysql.connector\n",
    "conn2 = mysql.connector.connect(\n",
    "    host = 'localhost',\n",
    "    port = 3306,\n",
    "    user = 'honomara',\n",
    "    password =  'honomara',\n",
    "    database = 'honomara',\n",
    ")\n",
    "\n",
    "cur2 = conn2.cursor(dictionary=True)"
   ]
  },
  {
   "cell_type": "code",
   "execution_count": null,
   "metadata": {},
   "outputs": [],
   "source": [
    "create_trainings_table =\"\"\"\n",
    "CREATE TABLE IF NOT EXISTS trainings (\n",
    "    `training_id` INT PRIMARY KEY AUTO_INCREMENT,\n",
    "    `date` date NOT NULL,\n",
    "    `wday` VARCHAR(1) NOT NULL,\n",
    "    `place` VARCHAR(20) NOT NULL,\n",
    "    `weather` VARCHAR(20),\n",
    "    `title` VARCHAR(20) NOT NULL,\n",
    "    `comment` text,\n",
    "    INDEX USING BTREE (date)\n",
    ");\n",
    "\"\"\"\n",
    "\n",
    "cur2.execute(create_trainings_table)\n",
    "conn2.commit()"
   ]
  },
  {
   "cell_type": "code",
   "execution_count": null,
   "metadata": {},
   "outputs": [],
   "source": [
    "def gen_query(row):\n",
    "    query = \"\"\n",
    "    query += \"INSERT INTO trainings (training_id,date,wday,place,wether,title,comment) VALUES \\n\"\n",
    "    query += \"({},\".format(row['training_id'])\n",
    "    query += \"cast('{}' as date),\".format(str(row['date']))\n",
    "    query += \"{},\".format(row['wday'])\n",
    "    query += \"{},\".format(row['site'])\n",
    "    query += \"{},\".format(row['subject'])\n",
    "    query += \"{});\".format(row['comment'])\n",
    "    return query\n",
    "\n",
    "def get_data(row):\n",
    "    data = (row['training_id'],str(row['date']),row['wday'],row['site'],row['weather'],row['subject'],row['comment'])\n",
    "    return data\n",
    "\n",
    "query = \"INSERT INTO trainings (training_id,date,wday,place,weather,title,comment) VALUES (%s,%s,%s,%s,%s,%s,%s);\"\n",
    "for row in get_data_dict('SELECT * FROM training;'):\n",
    "    cur2.execute(query,get_data(row))\n",
    "conn2.commit()"
   ]
  },
  {
   "cell_type": "markdown",
   "metadata": {},
   "source": [
    "## miscellaneous info"
   ]
  },
  {
   "cell_type": "code",
   "execution_count": null,
   "metadata": {},
   "outputs": [],
   "source": [
    "get_colname('training')"
   ]
  },
  {
   "cell_type": "code",
   "execution_count": null,
   "metadata": {},
   "outputs": [],
   "source": [
    "get_data('SELECT wday,count(*) FROM training GROUP BY wday;')"
   ]
  },
  {
   "cell_type": "code",
   "execution_count": null,
   "metadata": {
    "scrolled": true
   },
   "outputs": [],
   "source": [
    "get_data(\"SELECT site,count(*) AS cnt FROM training GROUP BY site ORDER BY cnt DESC;\")"
   ]
  }
 ],
 "metadata": {
  "kernelspec": {
   "display_name": "Python 3",
   "language": "python",
   "name": "python3"
  },
  "language_info": {
   "codemirror_mode": {
    "name": "ipython",
    "version": 3
   },
   "file_extension": ".py",
   "mimetype": "text/x-python",
   "name": "python",
   "nbconvert_exporter": "python",
   "pygments_lexer": "ipython3",
   "version": "3.5.2"
  }
 },
 "nbformat": 4,
 "nbformat_minor": 2
}
