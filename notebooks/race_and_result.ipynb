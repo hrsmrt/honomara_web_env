{
 "cells": [
  {
   "cell_type": "markdown",
   "metadata": {},
   "source": [
    "# 大会記録のデータの移行\n",
    "### postgresqlへの接続"
   ]
  },
  {
   "cell_type": "code",
   "execution_count": null,
   "metadata": {},
   "outputs": [],
   "source": [
    "import psycopg2\n",
    "from psycopg2.errors import DuplicateColumn\n",
    "\n",
    "conn = psycopg2.connect('user=honomara dbname=honomara password=honomara')\n",
    "\n",
    "def get_data(sql):\n",
    "    with conn.cursor() as cur:\n",
    "        cur.execute(sql)\n",
    "        data = cur.fetchall()\n",
    "    return data\n",
    "\n",
    "def get_data_dict(sql):\n",
    "    with conn.cursor() as cur:\n",
    "        cur.execute(sql)\n",
    "        data = cur.fetchall()\n",
    "        col_name = [col.name for col in cur.description]\n",
    "    return [ dict(zip(col_name,d)) for d in data]\n",
    "\n",
    "\n",
    "def get_colname(table):\n",
    "    with conn.cursor() as cur:\n",
    "        cur.execute('SELECT * FROM {} LIMIT 1;'.format(table))\n",
    "        data = [col.name for col in cur.description]\n",
    "    return data\n",
    "\n",
    "def get_table_list():\n",
    "    return [table[0] for table in get_data('SELECT relname FROM pg_stat_user_tables;')]\n",
    "\n",
    "def get_sequence_list():\n",
    "    return [seq[0] for seq in get_data('''SELECT c.relname FROM pg_class c LEFT join pg_user u ON c.relowner = u.usesysid WHERE c.relkind = 'S';''')]\n",
    "\n",
    "def exec_transactions(sqls):\n",
    "    with conn.cursor() as cur:\n",
    "        for sql in sqls:\n",
    "            cur.execute(sql)\n",
    "    conn.commit()"
   ]
  },
  {
   "cell_type": "markdown",
   "metadata": {},
   "source": [
    "### mysqlへの接続"
   ]
  },
  {
   "cell_type": "code",
   "execution_count": null,
   "metadata": {},
   "outputs": [],
   "source": [
    "import mysql.connector\n",
    "conn2 = mysql.connector.connect(\n",
    "    host = 'localhost',\n",
    "    port = 3306,\n",
    "    user = 'honomara',\n",
    "    password =  'honomara',\n",
    "    database = 'honomara',\n",
    ")\n",
    "\n",
    "cur2 = conn2.cursor(dictionary=True)\n"
   ]
  },
  {
   "cell_type": "markdown",
   "metadata": {},
   "source": [
    "### race_base, race, race_type, resultテーブルの追加"
   ]
  },
  {
   "cell_type": "code",
   "execution_count": null,
   "metadata": {},
   "outputs": [],
   "source": [
    "create_race_base_table = '''\n",
    "CREATE TABLE IF NOT EXISTS race_base (\n",
    "    `race_name`      VARCHAR(60) PRIMARY KEY,\n",
    "    `race_name_kana` VARCHAR(60),\n",
    "    `prefecture`     VARCHAR(30),\n",
    "    `comment`        TEXT\n",
    ");\n",
    "'''\n",
    "\n",
    "create_race_table = '''\n",
    "CREATE TABLE IF NOT EXISTS race (\n",
    "    `id`        INT PRIMARY KEY AUTO_INCREMENT,\n",
    "    `race_name` VARCHAR(60) NOT NULL,\n",
    "    `date`      DATE NOT NULL,\n",
    "    `comment`   TEXT\n",
    ");\n",
    "'''\n",
    "create_race_type_table = '''\n",
    "CREATE TABLE IF NOT EXISTS race_type (\n",
    "    `id`         INT PRIMARY KEY AUTO_INCREMENT,\n",
    "    `race_type`  VARCHAR(30) NOT NULL DEFAULT 'road', \n",
    "    `show_name`  VARCHAR(30), \n",
    "    `ranking`    INT NOT NULL DEFAULT 100, \n",
    "    `duration`   FLOAT,\n",
    "    `distance`   FLOAT,\n",
    "    `comment`    TEXT\n",
    ");\n",
    "'''\n",
    "\n",
    "create_result_table = '''\n",
    "CREATE TABLE IF NOT EXISTS result (\n",
    "    `member_id`     INT NOT NULL, \n",
    "    `race_type_id`  INT NOT NULL, \n",
    "    `race_id`       INT NOT NULL, \n",
    "    `result`        INT NOT NULL,\n",
    "    `comment`       TEXT\n",
    ");\n",
    "'''\n",
    "\n",
    "cur2.execute(create_race_base_table)\n",
    "cur2.execute(create_race_table)\n",
    "cur2.execute(create_race_type_table)\n",
    "cur2.execute(create_result_table)\n",
    "conn2.commit()\n",
    "#cur2.execute('''ALTER TABLE race ADD CONSTRAINT FOREIGN KEY (race_name) REFERENCES race_base(race_name);''')\n",
    "cur2.execute('''ALTER TABLE result ADD CONSTRAINT FOREIGN KEY (member_id)    REFERENCES member(id);''')\n",
    "cur2.execute('''ALTER TABLE result ADD CONSTRAINT FOREIGN KEY (race_type_id) REFERENCES race_type(id);''')\n",
    "cur2.execute('''ALTER TABLE result ADD CONSTRAINT FOREIGN KEY (race_id)      REFERENCES race(id);''')\n",
    "conn2.commit()"
   ]
  },
  {
   "cell_type": "markdown",
   "metadata": {},
   "source": [
    "### race_base テーブルの移行\n"
   ]
  },
  {
   "cell_type": "code",
   "execution_count": null,
   "metadata": {
    "scrolled": true
   },
   "outputs": [],
   "source": [
    "import re\n",
    "ds = get_data('SELECT DISTINCT race_name FROM race;')\n",
    "ds = [ (d[0].strip()) for d in ds]#  if re.match('横浜',d[0])]\n",
    "ds = set(ds)\n",
    "ds = list(ds)\n",
    "ds.sort()\n",
    "prev = ''\n",
    "# for d in ds:\n",
    "#     if prev[:5:] == d[:5:]:\n",
    "#         print(d,prev)\n",
    "#     prev = d\n",
    "    \n",
    "    \n",
    "table= {}\n",
    "table[\"いたばしリバーサイド・ハーフマラソン\"] = \"いたばしリバーサイドハーフマラソン\"\n",
    "table[\"おきなわマラソン_\"] = \"おきなわマラソン\"\n",
    "table[\"戸田・彩湖フルマラソン&ウルトラマラソン\"] = \"戸田・彩湖フルマラソン＆ウルトラマラソン\"\n",
    "ds = [table.get(d,d) for d in ds]\n",
    "ds = set(ds)\n",
    "ds = list(ds)\n",
    "ds.sort()\n",
    "\n",
    "for d in ds:\n",
    "    cur2.execute('INSERT INTO race_base (race_name) VALUES (%s);',(d,))\n",
    "    \n",
    "conn2.commit()"
   ]
  },
  {
   "cell_type": "markdown",
   "metadata": {},
   "source": [
    "### raceテーブルの移行"
   ]
  },
  {
   "cell_type": "code",
   "execution_count": null,
   "metadata": {},
   "outputs": [],
   "source": [
    "table= {}\n",
    "table[\"いたばしリバーサイド・ハーフマラソン\"] = \"いたばしリバーサイドハーフマラソン\"\n",
    "table[\"おきなわマラソン_\"] = \"おきなわマラソン\"\n",
    "table[\"戸田・彩湖フルマラソン&ウルトラマラソン\"] = \"戸田・彩湖フルマラソン＆ウルトラマラソン\"\n",
    "\n",
    "n =get_data('SELECT count(*) FROM race; ')[0][0] \n",
    "ofst = 0\n",
    "limit = n\n",
    "while ofst < n:\n",
    "    ds = get_data_dict('SELECT race_id,race_name,date FROM race ORDER BY race_id OFFSET {ofst} LIMIT {lmt};'.format(ofst=ofst,lmt=limit))\n",
    "    for d in ds:\n",
    "        d['race_name'] = table.get(d['race_name'],d['race_name']).strip()\n",
    "#         print(d)\n",
    "        cur2.execute('INSERT INTO race (id, race_name, date) VALUES (%s,%s,%s);',(d['race_id'],d['race_name'],d['date']))\n",
    "    ofst += limit\n",
    "conn2.commit()"
   ]
  },
  {
   "cell_type": "markdown",
   "metadata": {},
   "source": [
    "### race_type テーブルの移行(旧distance)"
   ]
  },
  {
   "cell_type": "code",
   "execution_count": null,
   "metadata": {
    "scrolled": true
   },
   "outputs": [],
   "source": [
    "from re import search\n",
    "ds = get_data_dict('''\n",
    "SELECT distance_id AS race_type_id, distance AS distance, distance_name AS show_name, ranking  FROM distance ORDER BY ranking;\n",
    "''')\n",
    "time = list(filter(lambda d: search('時間', d['show_name']) ,ds))\n",
    "road = list(filter(lambda d: search('マラソン|キロ|マイル', d['show_name']) ,ds))\n",
    "track = list(filter(lambda d: search('メートル', d['show_name']) ,ds))\n",
    "\n",
    "# print(len(ds))\n",
    "# print(len(time))\n",
    "# print(len(road))\n",
    "# print(len(track))\n",
    "\n",
    "for t in time:\n",
    "    t['duration'] =  float(t['show_name'].replace('時間走','')) * 3600\n",
    "    t['distance'] =  None\n",
    "    t['race_type'] = 'time'\n",
    "    print(t)\n",
    "    cur2.execute('''INSERT INTO race_type (id, race_type, duration, show_name, ranking) VALUES (%s,%s,%s,%s,%s);'''\n",
    "                 ,(t['race_type_id'],t['race_type'],t['duration'],t['show_name'],t['ranking']))\n",
    "\n",
    "\n",
    "    \n",
    "for t in track:\n",
    "    t['race_type'] = 'track'\n",
    "    t['distance'] =  float(t['distance'])\n",
    "    print(t)\n",
    "    cur2.execute('''INSERT INTO race_type (id, race_type, duration, show_name, ranking) VALUES (%s,%s,%s,%s,%s);'''\n",
    "                 ,(t['race_type_id'],t['race_type'],t['distance'],t['show_name'],t['ranking']))\n",
    "\n",
    "    \n",
    "for t in road:\n",
    "    t['distance'] =  float(t['distance'])\n",
    "    t['race_type'] = 'road'\n",
    "    print(t)\n",
    "    cur2.execute('''INSERT INTO race_type (id, race_type, duration, show_name, ranking) VALUES (%s,%s,%s,%s,%s);'''\n",
    "                 ,(t['race_type_id'],t['race_type'],t['distance'],t['show_name'],t['ranking']))\n",
    "conn2.commit()"
   ]
  },
  {
   "cell_type": "markdown",
   "metadata": {},
   "source": [
    "### results テーブルの移行"
   ]
  },
  {
   "cell_type": "code",
   "execution_count": null,
   "metadata": {
    "scrolled": true
   },
   "outputs": [],
   "source": [
    "n =get_data('SELECT count(*) FROM result; ')[0][0] \n",
    "print(n)\n",
    "ofst = 0\n",
    "limit = 10\n",
    "while ofst < n:\n",
    "    ds = get_data_dict('''\n",
    "    SELECT person_id as member_id, race_id, distance_id as race_type_id,time as result, display_time, comment FROM result\n",
    "    ORDER BY race_id OFFSET {ofst} LIMIT {lmt};\n",
    "    '''.format(ofst=ofst,lmt=limit))\n",
    "    for d in ds:\n",
    "        if not d['result']:\n",
    "            continue\n",
    "        print(d)\n",
    "        cur2.execute('''INSERT INTO result (member_id, race_id, race_type_id, result, comment) VALUES (%s,%s,%s,%s,%s);'''\n",
    "                     ,(d['member_id']\n",
    "                       ,d['race_id']\n",
    "                       ,d['race_type_id']\n",
    "                       , int(d['result'].total_seconds())\n",
    "                       ,'display_time:{} {}'.format(d['display_time'],'' if d['comment'] is None else d['comment'])))\n",
    "        pass\n",
    "    \n",
    "    ofst += limit\n",
    "conn2.commit()"
   ]
  },
  {
   "cell_type": "markdown",
   "metadata": {},
   "source": [
    "## miscellaneous info"
   ]
  },
  {
   "cell_type": "code",
   "execution_count": null,
   "metadata": {},
   "outputs": [],
   "source": [
    "d = get_data('SELECT DISTINCT race_name,count(*) as count FROM race GROUP BY race_name ORDER BY race_name;')\n",
    "len(d), d"
   ]
  },
  {
   "cell_type": "code",
   "execution_count": null,
   "metadata": {},
   "outputs": [],
   "source": [
    "get_colname('race')"
   ]
  },
  {
   "cell_type": "code",
   "execution_count": null,
   "metadata": {},
   "outputs": [],
   "source": [
    "get_data('SELECT * FROM result LIMIT 10;')"
   ]
  },
  {
   "cell_type": "code",
   "execution_count": null,
   "metadata": {},
   "outputs": [],
   "source": [
    "get_colname('result')"
   ]
  },
  {
   "cell_type": "code",
   "execution_count": null,
   "metadata": {},
   "outputs": [],
   "source": [
    "get_colname('distance')"
   ]
  },
  {
   "cell_type": "code",
   "execution_count": null,
   "metadata": {},
   "outputs": [],
   "source": [
    "get_colname('person')"
   ]
  },
  {
   "cell_type": "code",
   "execution_count": null,
   "metadata": {},
   "outputs": [],
   "source": [
    "get_data('SELECT race_name, count(*) AS cnt FROM race GROUP BY race_name ORDER BY cnt DESC ;')"
   ]
  },
  {
   "cell_type": "code",
   "execution_count": null,
   "metadata": {},
   "outputs": [],
   "source": [
    "get_data('''\n",
    "SELECT race_name, year ,count(*) AS cnt FROM race\n",
    "GROUP BY race_name, year \n",
    "ORDER BY cnt DESC''')"
   ]
  },
  {
   "cell_type": "code",
   "execution_count": null,
   "metadata": {},
   "outputs": [],
   "source": [
    "get_data('''SELECT person.name, race.race_name, race.year, distance.distance_name, display_time, time, comment AS cnt \n",
    "    FROM result \n",
    "    JOIN person ON result.person_id = person.person_id\n",
    "    JOIN race ON result.race_id = race.race_id\n",
    "    JOIN distance ON result.distance_id = distance.distance_id\n",
    "    WHERE (comment IS NOT NULL) AND (comment != '')\n",
    "    LIMIT 100 ''')"
   ]
  },
  {
   "cell_type": "code",
   "execution_count": null,
   "metadata": {},
   "outputs": [],
   "source": [
    "cur2.execute('''SELECT result.result, result.comment, race.race_name, race.date, race_type.show_name, member.show_name FROM result \n",
    "JOIN race ON result.race_id=race.id\n",
    "JOIN member ON result.member_id = member.id\n",
    "JOIN race_type ON result.race_type_id=race_type.id\n",
    " ORDER BY race.date DESC LIMIT 200;''')\n",
    "cur2.fetchall()"
   ]
  },
  {
   "cell_type": "code",
   "execution_count": null,
   "metadata": {},
   "outputs": [],
   "source": []
  }
 ],
 "metadata": {
  "kernelspec": {
   "display_name": "Python 3",
   "language": "python",
   "name": "python3"
  },
  "language_info": {
   "codemirror_mode": {
    "name": "ipython",
    "version": 3
   },
   "file_extension": ".py",
   "mimetype": "text/x-python",
   "name": "python",
   "nbconvert_exporter": "python",
   "pygments_lexer": "ipython3",
   "version": "3.5.2"
  }
 },
 "nbformat": 4,
 "nbformat_minor": 2
}
