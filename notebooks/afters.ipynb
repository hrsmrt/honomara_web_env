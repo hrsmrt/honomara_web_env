{
 "cells": [
  {
   "cell_type": "code",
   "execution_count": null,
   "metadata": {},
   "outputs": [],
   "source": [
    "import psycopg2\n",
    "from psycopg2.extras import DictCursor\n",
    "from psycopg2.errors import DuplicateColumn\n",
    "conn = psycopg2.connect('user=honomara dbname=honomara password=honomara')\n",
    "\n",
    "def get_data(sql):\n",
    "    with conn.cursor() as cur:\n",
    "        cur.execute(sql)\n",
    "        data = cur.fetchall()\n",
    "    return data\n",
    "\n",
    "def get_data_dict(sql):\n",
    "    with conn.cursor() as cur:\n",
    "        cur.execute(sql)\n",
    "        data = cur.fetchall()\n",
    "        col_name = [col.name for col in cur.description]\n",
    "    return [ dict(zip(col_name,d)) for d in data]\n",
    "\n",
    "def get_colname(table):\n",
    "    with conn.cursor() as cur:\n",
    "        cur.execute('SELECT * FROM {} LIMIT 1;'.format(table))\n",
    "        data = [col.name for col in cur.description]\n",
    "    return data\n",
    "\n",
    "def exec_transaction(sql):\n",
    "    with conn.cursor() as cur:\n",
    "        cur.execute(sql)\n",
    "    conn.commit()\n"
   ]
  },
  {
   "cell_type": "code",
   "execution_count": null,
   "metadata": {},
   "outputs": [],
   "source": [
    "import mysql.connector\n",
    "conn2 = mysql.connector.connect(\n",
    "    host = 'localhost',\n",
    "    port = 3306,\n",
    "    user = 'honomara',\n",
    "    password =  'honomara',\n",
    "    database = 'honomara',\n",
    ")\n",
    "cur2 = conn2.cursor(dictionary=True)"
   ]
  },
  {
   "cell_type": "code",
   "execution_count": null,
   "metadata": {
    "scrolled": true
   },
   "outputs": [],
   "source": [
    "exec_transaction('''CREATE SEQUENCE IF NOT EXISTS after_id_seq ;''')\n",
    "try:\n",
    "    exec_transaction('''ALTER TABLE after ADD COLUMN after_id integer NOT NULL DEFAULT nextval('after_id_seq');''')\n",
    "except DuplicateColumn as err:\n",
    "    print(err)\n",
    "    conn = psycopg2.connect('user=honomara dbname=honomara password=honomara')"
   ]
  },
  {
   "cell_type": "code",
   "execution_count": null,
   "metadata": {},
   "outputs": [],
   "source": [
    "create_restaurants_table = \"\"\"\n",
    "CREATE TABLE IF NOT EXISTS restaurants (\n",
    "    restaurant_id INT PRIMARY KEY AUTO_INCREMENT,\n",
    "    restaurant_name VARCHAR(64) NOT NULL,\n",
    "    place VARCHAR(20),\n",
    "    comment text\n",
    ");\n",
    "\"\"\"\n",
    "\n",
    "cur2.execute(create_restaurants_table)\n",
    "conn2.commit()"
   ]
  },
  {
   "cell_type": "code",
   "execution_count": null,
   "metadata": {},
   "outputs": [],
   "source": [
    "restaurants = get_data_dict('''\n",
    "SELECT restaurant,site,avg(cost_max) AS cost_max,\n",
    "avg(cost_min) AS cost_min , avg(number_max) AS n_max,\n",
    "avg(number_min) AS n_min \n",
    "FROM after \n",
    "WHERE restaurant != '?' AND restaurant != '？' AND restaurant != ''\n",
    "GROUP BY (restaurant,site) \n",
    "ORDER BY restaurant;\n",
    "''')\n",
    "\n",
    "cur2.execute(\"INSERT INTO restaurants (restaurant_name,place,comment) VALUES ('Undefined','Undefined','Undefined');\")\n",
    "cur2.execute(\"UPDATE restaurants SET restaurant_id = 0 WHERE  restaurant_name = 'Undefined' and place = 'Undefined' and comment = 'Undefined';\")\n",
    "for restaurant in restaurants:\n",
    "    restaurant_name = restaurant['restaurant']\n",
    "    if restaurant_name == '' or restaurant_name == '?' or restaurant_name == '？':\n",
    "        continue\n",
    "    else:\n",
    "        print(restaurant_name)\n",
    "    place = restaurant['site']\n",
    "    comment  = \"費用目安 {}\\n\".format(int((restaurant['cost_max'] +  restaurant['cost_min']) /2))\n",
    "    comment += \"適正人数 {}人\\n\".format(int( (restaurant['n_max'] +  restaurant['n_min']) /2))\n",
    "    cur2.execute('INSERT INTO restaurants (restaurant_name,place,comment) VALUES (%s,%s,%s)',(restaurant_name,place,comment))\n",
    "conn2.commit()"
   ]
  },
  {
   "cell_type": "code",
   "execution_count": null,
   "metadata": {},
   "outputs": [],
   "source": [
    "create_afters_table = \"\"\"\n",
    "CREATE TABLE IF NOT EXISTS afters (\n",
    "    `after_id` INT PRIMARY KEY AUTO_INCREMENT,\n",
    "    `date` date NOT NULL,\n",
    "    `after_stage` INT NOT NULL DEFAULT 1,  \n",
    "    `restaurant_id` INT NOT NULL, \n",
    "    `total` INT NOT NULL,\n",
    "    `title` VARCHAR(128) NOT NULL, \n",
    "    `comment` TEXT,\n",
    "    FOREIGN KEY (`restaurant_id`) REFERENCES restaurants(`restaurant_id`),\n",
    "    INDEX USING BTREE(`date`));\n",
    "\"\"\"\n",
    "\n",
    "cur2.execute(create_afters_table)\n",
    "conn2.commit()"
   ]
  },
  {
   "cell_type": "code",
   "execution_count": null,
   "metadata": {},
   "outputs": [],
   "source": [
    "for data in get_data_dict('SELECT * FROM after ORDER BY date;'):\n",
    "    name = data['restaurant']\n",
    "    if name == '' or name == '?' or name == '？':\n",
    "        restaurant_id = 0\n",
    "    else:\n",
    "        cur2.execute('SELECT * FROM restaurants WHERE restaurant_name = %s AND place = %s',(data['restaurant'],data['site']))\n",
    "        restaurant_id = cur2.fetchall()[0]['restaurant_id']\n",
    "    after_id = data['after_id']\n",
    "    date = data['date']\n",
    "    after_stage=data['after']\n",
    "    title = data['topic']\n",
    "    total = data['total']\n",
    "    comment = data['comment']\n",
    "    cur2.execute('''\n",
    "    INSERT INTO afters (after_id,date,after_stage,restaurant_id,total,title,comment) \n",
    "    VALUES (%s,%s,%s,%s,%s,%s,%s);''',(after_id,date,after_stage,restaurant_id,total,title,comment))\n",
    "\n",
    "conn2.commit()"
   ]
  },
  {
   "cell_type": "markdown",
   "metadata": {},
   "source": [
    "## miscellaneous info"
   ]
  },
  {
   "cell_type": "code",
   "execution_count": null,
   "metadata": {},
   "outputs": [],
   "source": [
    "get_colname('after')"
   ]
  },
  {
   "cell_type": "code",
   "execution_count": null,
   "metadata": {},
   "outputs": [],
   "source": []
  }
 ],
 "metadata": {
  "kernelspec": {
   "display_name": "Python 3",
   "language": "python",
   "name": "python3"
  },
  "language_info": {
   "codemirror_mode": {
    "name": "ipython",
    "version": 3
   },
   "file_extension": ".py",
   "mimetype": "text/x-python",
   "name": "python",
   "nbconvert_exporter": "python",
   "pygments_lexer": "ipython3",
   "version": "3.5.2"
  }
 },
 "nbformat": 4,
 "nbformat_minor": 2
}
