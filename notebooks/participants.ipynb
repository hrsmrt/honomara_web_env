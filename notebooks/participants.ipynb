{
 "cells": [
  {
   "cell_type": "code",
   "execution_count": null,
   "metadata": {},
   "outputs": [],
   "source": [
    "import psycopg2\n",
    "from psycopg2.errors import DuplicateColumn\n",
    "\n",
    "conn = psycopg2.connect('user=honomara dbname=honomara password=honomara')\n",
    "\n",
    "def get_data(sql):\n",
    "    with conn.cursor() as cur:\n",
    "        cur.execute(sql)\n",
    "        data = cur.fetchall()\n",
    "    return data\n",
    "\n",
    "def get_data_dict(sql):\n",
    "    with conn.cursor() as cur:\n",
    "        cur.execute(sql)\n",
    "        data = cur.fetchall()\n",
    "        col_name = [col.name for col in cur.description]\n",
    "    return [ dict(zip(col_name,d)) for d in data]\n",
    "\n",
    "\n",
    "def get_colname(table):\n",
    "    with conn.cursor() as cur:\n",
    "        cur.execute('SELECT * FROM {} LIMIT 1;'.format(table))\n",
    "        data = [col.name for col in cur.description]\n",
    "    return data\n",
    "\n",
    "def get_table_list():\n",
    "    return [table[0] for table in get_data('SELECT relname FROM pg_stat_user_tables;')]\n",
    "\n",
    "def get_sequence_list():\n",
    "    return [seq[0] for seq in get_data('''SELECT c.relname FROM pg_class c LEFT join pg_user u ON c.relowner = u.usesysid WHERE c.relkind = 'S';''')]\n",
    "\n",
    "def exec_transactions(sqls):\n",
    "    with conn.cursor() as cur:\n",
    "        for sql in sqls:\n",
    "            cur.execute(sql)\n",
    "    conn.commit()"
   ]
  },
  {
   "cell_type": "code",
   "execution_count": null,
   "metadata": {},
   "outputs": [],
   "source": [
    "try:\n",
    "    exec_transactions([\n",
    "    '''ALTER TABLE participant ADD COLUMN after_id integer;''',\n",
    "    '''ALTER TABLE participant ADD COLUMN training_id integer ''',\n",
    "    '''ALTER TABLE participant ADD COLUMN origin varchar''',\n",
    "    ])\n",
    "except DuplicateColumn as err:\n",
    "    print(err)\n",
    "    conn = psycopg2.connect('user=honomara dbname=honomara password=honomara')"
   ]
  },
  {
   "cell_type": "code",
   "execution_count": null,
   "metadata": {},
   "outputs": [],
   "source": [
    "exec_transactions(['''\n",
    "UPDATE participant SET after_id = after.after_id, origin='after'\n",
    "FROM after WHERE participant.id = after.id;\n",
    "''',\n",
    "'''\n",
    "UPDATE participant SET training_id = training.training_id, origin='training'\n",
    "FROM training WHERE participant.id = training.id;\n",
    "'''])"
   ]
  },
  {
   "cell_type": "code",
   "execution_count": null,
   "metadata": {},
   "outputs": [],
   "source": [
    "import mysql.connector\n",
    "conn2 = mysql.connector.connect(\n",
    "    host = 'localhost',\n",
    "    port = 3306,\n",
    "    user = 'honomara',\n",
    "    password =  'honomara',\n",
    "    database = 'honomara',\n",
    ")\n",
    "\n",
    "cur2 = conn2.cursor(dictionary=True)"
   ]
  },
  {
   "cell_type": "code",
   "execution_count": null,
   "metadata": {},
   "outputs": [],
   "source": [
    "create_after_participants_table = '''\n",
    "CREATE TABLE IF NOT EXISTS  after_participants (\n",
    "    member_id INT NOT NULL,\n",
    "    after_id INT NOT NULL\n",
    ");\n",
    "'''\n",
    "create_training_participants_table='''\n",
    "CREATE TABLE IF NOT EXISTS  training_participants (\n",
    "    member_id INT NOT NULL,    \n",
    "    training_id INT NOT NULL\n",
    ");\n",
    "'''\n",
    "\n",
    "cur2.execute(create_after_participants_table)\n",
    "cur2.execute(create_training_participants_table)\n",
    "cur2.execute('''ALTER TABLE after_participants ADD CONSTRAINT FOREIGN KEY (member_id) REFERENCES members(member_id);''')\n",
    "cur2.execute('''ALTER TABLE after_participants ADD CONSTRAINT  FOREIGN KEY (after_id) REFERENCES afters(after_id);''')\n",
    "cur2.execute('''ALTER TABLE training_participants ADD CONSTRAINT  FOREIGN KEY (member_id) REFERENCES members(member_id);''')\n",
    "cur2.execute('''ALTER TABLE training_participants ADD CONSTRAINT  FOREIGN KEY (training_id) REFERENCES trainings(training_id);''')\n",
    "conn2.commit()\n"
   ]
  },
  {
   "cell_type": "code",
   "execution_count": null,
   "metadata": {},
   "outputs": [],
   "source": [
    "get_data_dict('SELECT * FROM participant LIMIT 1;')"
   ]
  },
  {
   "cell_type": "code",
   "execution_count": null,
   "metadata": {},
   "outputs": [],
   "source": [
    "conn2.commit()"
   ]
  },
  {
   "cell_type": "code",
   "execution_count": null,
   "metadata": {},
   "outputs": [],
   "source": [
    "for row in get_data_dict('SELECT * FROM participant;'):\n",
    "    if row['origin'] == 'after':\n",
    "        cur2.execute('INSERT INTO after_participants (member_id,after_id) VALUES (%s,%s);',(row['person_id'],row['after_id']))\n",
    "    elif row['origin'] == 'training':\n",
    "        cur2.execute('INSERT INTO training_participants (member_id,training_id) VALUES (%s,%s);',(row['person_id'],row['training_id']))\n",
    "conn2.commit()"
   ]
  },
  {
   "cell_type": "markdown",
   "metadata": {},
   "source": [
    "## miscellaneous info"
   ]
  },
  {
   "cell_type": "code",
   "execution_count": null,
   "metadata": {},
   "outputs": [],
   "source": [
    "get_table_list()"
   ]
  },
  {
   "cell_type": "code",
   "execution_count": null,
   "metadata": {},
   "outputs": [],
   "source": [
    "get_data('SELECT * FROM participant WHERE origin IS NULL LIMIT 10;')"
   ]
  },
  {
   "cell_type": "code",
   "execution_count": null,
   "metadata": {},
   "outputs": [],
   "source": [
    "cur2.execute('SHOW TABLES;')\n",
    "cur2.fetchall()"
   ]
  },
  {
   "cell_type": "code",
   "execution_count": null,
   "metadata": {},
   "outputs": [],
   "source": [
    "get_data('SELECT origin,count(id) FROM participant GROUP BY origin;')"
   ]
  },
  {
   "cell_type": "code",
   "execution_count": null,
   "metadata": {},
   "outputs": [],
   "source": [
    "cur2.execute('DESCRIBE trainings ;')\n",
    "cur2.fetchall()"
   ]
  },
  {
   "cell_type": "code",
   "execution_count": null,
   "metadata": {},
   "outputs": [],
   "source": [
    "cur2.execute('DESCRIBE members ;')\n",
    "cur2.fetchall()"
   ]
  },
  {
   "cell_type": "code",
   "execution_count": null,
   "metadata": {},
   "outputs": [],
   "source": [
    "cur2.execute('show engines;')\n",
    "cur2.fetchall()"
   ]
  },
  {
   "cell_type": "code",
   "execution_count": null,
   "metadata": {
    "scrolled": true
   },
   "outputs": [],
   "source": [
    "cur2.execute('''use information_schema;''')\n",
    "cur2.execute('''select table_schema, table_name, engine from tables WHERE table_schema='honomara';''')\n",
    "cur2.fetchall()"
   ]
  },
  {
   "cell_type": "code",
   "execution_count": null,
   "metadata": {},
   "outputs": [],
   "source": [
    "cur2.execute('DESCRIBE trainings_participants;')\n",
    "cur2.fetchall()"
   ]
  },
  {
   "cell_type": "code",
   "execution_count": null,
   "metadata": {},
   "outputs": [],
   "source": []
  }
 ],
 "metadata": {
  "kernelspec": {
   "display_name": "Python 3",
   "language": "python",
   "name": "python3"
  },
  "language_info": {
   "codemirror_mode": {
    "name": "ipython",
    "version": 3
   },
   "file_extension": ".py",
   "mimetype": "text/x-python",
   "name": "python",
   "nbconvert_exporter": "python",
   "pygments_lexer": "ipython3",
   "version": "3.5.2"
  }
 },
 "nbformat": 4,
 "nbformat_minor": 2
}
