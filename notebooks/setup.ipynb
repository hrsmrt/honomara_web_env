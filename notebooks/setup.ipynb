{
 "cells": [
  {
   "cell_type": "markdown",
   "metadata": {},
   "source": [
    "# How to use honomara_web_env"
   ]
  },
  {
   "cell_type": "markdown",
   "metadata": {},
   "source": [
    "honomara_web_envは、ホノルルマラソンを走る会のホームページ作成のための統合環境です。"
   ]
  },
  {
   "cell_type": "markdown",
   "metadata": {},
   "source": [
    "## 1. jupyter上でのbashの操作になれる"
   ]
  },
  {
   "cell_type": "markdown",
   "metadata": {},
   "source": [
    "このノートはjupyter notebookというソフトウェア上で動作しています。  \n",
    "jupyter notebookというのは、人間に読みやすい形でにプログラムを実行、記録できるサービスです。  \n",
    "通常はpythonを実行するために使われることが多いですが、今回は環境構築のために、bash（ターミナル環境）を使えるようにしています。  "
   ]
  },
  {
   "cell_type": "code",
   "execution_count": null,
   "metadata": {},
   "outputs": [],
   "source": [
    "#まずは実行してみましょう\n",
    "#枠の左側の再生ボタンをクリックするか、\n",
    "#枠を選択した状態で Shift + Enter または Ctrl + Enterで\n",
    "#枠内のコマンド（コード）を実行できます。 \n",
    "echo \"現在のディレクトリ\"\n",
    "pwd"
   ]
  },
  {
   "cell_type": "markdown",
   "metadata": {},
   "source": [
    "正しく実行できたらセル（枠）の左の\\[\\]内に数字が表示され、\n",
    "\n",
    "現在のディレクトリ  \n",
    "/home/notebooks  \n",
    "\n",
    "と表示されるはずです。"
   ]
  },
  {
   "cell_type": "markdown",
   "metadata": {},
   "source": [
    "次に別のコマンドを実行してみましょう"
   ]
  },
  {
   "cell_type": "code",
   "execution_count": null,
   "metadata": {},
   "outputs": [],
   "source": [
    "# Shift + Enter 等で実行してください\n",
    "ls /vagrant"
   ]
  },
  {
   "cell_type": "markdown",
   "metadata": {},
   "source": [
    "/vagrant中のディレクトリのファイルやディレクトリ一覧が表示されます。  \n",
    "気づいた人もいるかもしれませんが、  \n",
    "このディレクトリ（仮想マシン中の/vagrantディレクトリ）はホスト中のダウンロードしてきたリポジトリと同期するように設定してあります。  \n",
    "\n",
    "複数のセル（それぞれの枠のこと）を用意したので、好きなようにコマンドを実行してみてください  \n",
    "セルを追加はメニューの`insert`から可能です。  \n",
    "ショートカットでもできるので、`Help`を参照してみてください。"
   ]
  },
  {
   "cell_type": "code",
   "execution_count": null,
   "metadata": {},
   "outputs": [],
   "source": [
    "# Shift + Enter 等で実行する。\n",
    "date"
   ]
  },
  {
   "cell_type": "code",
   "execution_count": null,
   "metadata": {},
   "outputs": [],
   "source": []
  },
  {
   "cell_type": "code",
   "execution_count": null,
   "metadata": {},
   "outputs": [],
   "source": []
  },
  {
   "cell_type": "code",
   "execution_count": null,
   "metadata": {},
   "outputs": [],
   "source": []
  },
  {
   "cell_type": "markdown",
   "metadata": {},
   "source": [
    "## 2. 各環境をセットアップする\n",
    "\n",
    "WEB開発に関係する可能性のある様々な環境を構築する手段（スクリプト）を用意しています。  \n",
    "ラインナップは以下のとおりです。\n",
    "<table>\n",
    "    <thead><td>項目</td><td>説明</td><td>インストール方法</td> </thead>\n",
    "    <tr><td>pytho3</td><td>python3.5</td><td>(インストール済み)</td></tr>\n",
    "    <tr><td>pip3</td><td>python3パッケージ管理用</td><td>(インストール済み)</td></tr>\n",
    "    <tr><td>Jupyter</td><td>jupyter</td><td>(インストール済み)</td></tr>\n",
    "    <tr><td>PostgreSQL</td><td>データベース</td><td>/vagrant/scripts/setup_postgres.sh</td></tr>\n",
    "    <tr><td>MySQL</td><td>データベース</td><td>/vagrant/scripts/setup_mysql.sh</td></tr>\n",
    "    <tr><td>Apache2&PHP</td><td>WEBサーバーとPHP7.3</td><td>/vagrant/scripts/setup_web_server.sh</td></tr>\n",
    "    <tr><td>MeCab</td><td>形態素解析機</td><td>/vagrant/scripts/setup_mecab.sh</td></tr>    \n",
    "    <tr><td>slim</td><td>PHP の軽量WEBフレームワーク</td><td>/vagrant/scripts/setup_slim.sh</td></tr>\n",
    "    <tr><td>Flask</td><td>Python の軽量WEBフレームワーク</td><td>/vagrant/scripts/setup_flask.sh</td></tr>\n",
    "    <tr><td>既存データ</td><td>PostgreSQL上にホノマラのデータをインポート</td><td>/vagrant/scripts/import_honomara_data.sh</td></tr>\n",
    "</table>"
   ]
  },
  {
   "cell_type": "markdown",
   "metadata": {},
   "source": [
    "### 2.1 PostgreSQLのインストール〜〜過去のデータを見てみよう〜〜\n",
    "#### 2.1.1 PostgreSQLのインストール"
   ]
  },
  {
   "cell_type": "code",
   "execution_count": null,
   "metadata": {},
   "outputs": [],
   "source": [
    "# Shift + Enter 等で実行してください\n",
    "/vagrant/scripts/setup_postgres.sh"
   ]
  },
  {
   "cell_type": "markdown",
   "metadata": {},
   "source": [
    "最後の行に\n",
    "`/vagrant/notebooks`\n",
    "と表示されたら成功です。"
   ]
  },
  {
   "cell_type": "markdown",
   "metadata": {},
   "source": [
    "#### 2.1.2 過去のデータのインポート\n",
    "\n",
    "既存のデータをデータベースに導入するためににスクリプトを用意したので実行してください"
   ]
  },
  {
   "cell_type": "code",
   "execution_count": null,
   "metadata": {},
   "outputs": [],
   "source": [
    "# Shift + Enter 等で実行してください。\n",
    "# 実行完了まで数分かかります。\n",
    "/vagrant/scripts/import_honomara_data.sh"
   ]
  },
  {
   "cell_type": "markdown",
   "metadata": {},
   "source": [
    "INSERT 0 1 \n",
    "と大量に表示されるはずです\n",
    "この処理には5分くらいかかると思います。\n",
    "（セルの左側の\\[\\]の中が＊ではなく数字になったら終了です。）\n",
    "それでは実際にデータを見てみましょう"
   ]
  },
  {
   "cell_type": "code",
   "execution_count": null,
   "metadata": {},
   "outputs": [],
   "source": [
    "# Shift + Enter 等で実行してください\n",
    "export PGPASSWORD=honomara\n",
    "psql -U honomara -d honomara -c 'SELECT * FROM person LIMIT 10;'"
   ]
  },
  {
   "cell_type": "markdown",
   "metadata": {},
   "source": [
    "それっぽいデータが見えたら成功です。"
   ]
  },
  {
   "cell_type": "markdown",
   "metadata": {},
   "source": [
    "### 2.2 WEBサーバーのインストール \n",
    "\n",
    "今回は、古くから使われておりサークルのWEBサーバーでも使われているApacheというソフトとPHPをインストールします。\n",
    "\n",
    "※\n",
    "「サーバー」という単語ですが、実は複数意味があります。  \n",
    "通常は「データセンターにおいてあるマシン」等を想像するかもしれません。  \n",
    "ただここでは、「ユーザー（クライアント）からリクエストを受け取って応答するソフトウェア」という意味で使っています。  "
   ]
  },
  {
   "cell_type": "code",
   "execution_count": null,
   "metadata": {},
   "outputs": [],
   "source": [
    "# Shift + Enter 等で実行してください。\n",
    "# 実行完了まで数分かかります。\n",
    "/vagrant/scripts/setup_web_server.sh"
   ]
  },
  {
   "cell_type": "markdown",
   "metadata": {},
   "source": [
    "インストールできたら（セルの左の\\[\\]中に数字が表示されたら）ブラウザから\n",
    "\n",
    "[127.0.0.1:8080](http://127.0.0.1:8080)\n",
    "（または[localhost:8080](http://localhost:8080)）\n",
    "\n",
    "を開いてください。恐らく  \n",
    "\n",
    "Apache2 Ubuntu Default Page\n",
    "\n",
    "と書いたページが表示されるはずです。\n",
    "\n",
    "これは  \n",
    "仮想マシン中の/var/www/html/index.html  \n",
    "というファイルを表示したものです。\n",
    "\n",
    "自分で作成したページを表示したい場合は\n",
    "クローンしてきたリポジトリのディレクトリ(honomara_web_env)にHTML,CSS,JSのファイルを置いてください。  \n",
    "このディレクトリは仮想マシン中で/vagrantディレクトリと同期しているので  \n",
    "そこから/var/www/htmlディレクトリにデータを移動しましょう。  \n",
    "以下例です。\n",
    "\n",
    "実行してみましょう。"
   ]
  },
  {
   "cell_type": "code",
   "execution_count": null,
   "metadata": {},
   "outputs": [],
   "source": [
    "cat > /vagrant/test.html <<EOF\n",
    "<!DOCTYPE html>\n",
    "<html lang=\"ja\">\n",
    "<head>\n",
    "    <meta charset=\"UTF-8\">\n",
    "    <title>テストタイトル</title>\n",
    "</head>\n",
    "<body>\n",
    "    <h1>これはテストです！！</h1>\n",
    "</body>\n",
    "</html>\n",
    "EOF\n",
    "cp  /vagrant/test.html /var/www/html/"
   ]
  },
  {
   "cell_type": "markdown",
   "metadata": {},
   "source": [
    "実行したら\n",
    "\n",
    "[127.0.0.1:8080/test.html](http://127.0.0.1:8080/test.html)\n",
    "\n",
    "を開いてみましょう\n",
    "\n",
    "これはテストです！！\n",
    "\n",
    "と大きく表示されていたら成功です。"
   ]
  },
  {
   "cell_type": "markdown",
   "metadata": {},
   "source": [
    "### 2.3 MySQLの設定"
   ]
  },
  {
   "cell_type": "code",
   "execution_count": null,
   "metadata": {},
   "outputs": [],
   "source": [
    "/vagrant/scripts/setup_mysql.sh"
   ]
  },
  {
   "cell_type": "markdown",
   "metadata": {},
   "source": [
    "### 2.4MeCabの設定"
   ]
  },
  {
   "cell_type": "code",
   "execution_count": null,
   "metadata": {},
   "outputs": [],
   "source": [
    "/vagrant/scripts/setup_mecab.sh"
   ]
  },
  {
   "cell_type": "markdown",
   "metadata": {},
   "source": [
    "### 2.5cgiの設定 （[参考リンク](https://www.server-world.info/query?os=Ubuntu_16.04&p=httpd&f=5)）"
   ]
  },
  {
   "cell_type": "code",
   "execution_count": null,
   "metadata": {
    "scrolled": true
   },
   "outputs": [],
   "source": [
    "sudo a2enmod cgi\n",
    "sudo systemctl restart apache2\n",
    "[ -d /usr/lib/cgi-bin ] || sudo rmdir /usr/lib/cgi-bin\n",
    "[ -d /vagrant/app ] || mkdir -p /vagrant/app\n",
    "[ -e /usr/lib/cgi-bin ] || sudo ln -s /vagrant/app /usr/lib/cgi-bin\n",
    "sudo chmod 777 /usr/lib/cgi-bin\n",
    "cat > /usr/lib/cgi-bin/test_script <<'EOF'\n",
    "#!/usr/bin/env python3\n",
    "print(\"Content-type: text/html\\n\\n\")\n",
    "print(\"Hello CGI\\n\")\n",
    "EOF\n",
    "chmod 705 /usr/lib/cgi-bin/test_script"
   ]
  },
  {
   "cell_type": "markdown",
   "metadata": {},
   "source": [
    "### 2.6Flaskのための各種設定"
   ]
  },
  {
   "cell_type": "code",
   "execution_count": null,
   "metadata": {},
   "outputs": [],
   "source": [
    "sudo pip3 install flask\n",
    "sudo sed -i -E 's/(AllowOverride\\s+)None/\\1All/g' /etc/apache2/apache2.conf\n",
    "sudo sed -i -E 's/(AllowOverride\\s+)None/\\1All/g' /etc/apache2/conf-enabled/serve-cgi-bin.conf\n",
    "sudo a2enmod rewrite\n",
    "sudo systemctl restart apache2\n",
    "\n",
    "cat > /var/www/html/.htaccess <<EOF\n",
    "RewriteEngine On\n",
    "RewriteRule ^cgi-bin\\$ /cgi-bin/index.cgi [L,QSA]\n",
    "EOF\n",
    "chmod 604 /var/www/html/.htaccess"
   ]
  },
  {
   "cell_type": "markdown",
   "metadata": {},
   "source": [
    "## 3.データの移行"
   ]
  },
  {
   "cell_type": "markdown",
   "metadata": {},
   "source": [
    "以下、別のノートにデータ変換スクリプトをおいてあるので、実行してみてください。\n",
    "\n",
    "1. [members](members.ipynb)\n",
    "    * mecabの設定が必要です、あらかじめ/vagrant/scripts/setup_mecab.shを実行してください\n",
    "    * カナの更新には、CSVの読み込みが必要です、スプレッドシートからCSV形式でダウンロードしてください。\n",
    "2. [trainings](trainings.ipynb)\n",
    "3. [afters](afters.ipynb)\n",
    "4. [participants](participants.ipynb)"
   ]
  },
  {
   "cell_type": "code",
   "execution_count": null,
   "metadata": {},
   "outputs": [],
   "source": []
  }
 ],
 "metadata": {
  "kernelspec": {
   "display_name": "Bash",
   "language": "bash",
   "name": "bash"
  },
  "language_info": {
   "codemirror_mode": "shell",
   "file_extension": ".sh",
   "mimetype": "text/x-sh",
   "name": "bash"
  }
 },
 "nbformat": 4,
 "nbformat_minor": 2
}
