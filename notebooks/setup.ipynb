{
 "cells": [
  {
   "cell_type": "markdown",
   "metadata": {},
   "source": [
    "# How to use honomara_web_env"
   ]
  },
  {
   "cell_type": "markdown",
   "metadata": {},
   "source": [
    "honomara_web_envは、ホノルルマラソンを走る会のホームページ作成のための統合環境です。"
   ]
  },
  {
   "cell_type": "markdown",
   "metadata": {},
   "source": [
    "## 1. jupyter上でのbashの操作になれる"
   ]
  },
  {
   "cell_type": "markdown",
   "metadata": {},
   "source": [
    "このノートはjupyter notebookというソフトウェア上で動作しています。  \n",
    "jupyter notebookというのは、人間に読みやすい形でにプログラムを実行、記録できるサービスです。  \n",
    "通常はpythonを実行するために使われることが多いですが、今回は環境構築のために、bash（ターミナル環境）を使えるようにしています。  "
   ]
  },
  {
   "cell_type": "code",
   "execution_count": null,
   "metadata": {},
   "outputs": [],
   "source": [
    "#まずは実行してみましょう\n",
    "#枠の左側の再生ボタンをクリックするか、\n",
    "#枠を選択した状態で Shift + Enter または Ctrl + Enterで\n",
    "#枠内のコマンド（コード）を実行できます。 \n",
    "echo \"現在のディレクトリ\"\n",
    "pwd"
   ]
  },
  {
   "cell_type": "markdown",
   "metadata": {},
   "source": [
    "正しく実行できたらセル（枠）の左の\\[\\]内に数字が表示され、\n",
    "\n",
    "現在のディレクトリ  \n",
    "/home/notebooks  \n",
    "\n",
    "と表示されるはずです。"
   ]
  },
  {
   "cell_type": "markdown",
   "metadata": {},
   "source": [
    "次に別のコマンドを実行してみましょう"
   ]
  },
  {
   "cell_type": "code",
   "execution_count": null,
   "metadata": {},
   "outputs": [],
   "source": [
    "# Shift + Enter 等で実行してください\n",
    "ls /vagrant"
   ]
  },
  {
   "cell_type": "markdown",
   "metadata": {},
   "source": [
    "/vagrant中のディレクトリのファイルやディレクトリ一覧が表示されます。  \n",
    "気づいた人もいるかもしれませんが、  \n",
    "このディレクトリ（仮想マシン中の/vagrantディレクトリ）はホスト中のダウンロードしてきたリポジトリと同期するように設定してあります。  \n",
    "\n",
    "複数のセル（それぞれの枠のこと）を用意したので、好きなようにコマンドを実行してみてください  \n",
    "セルを追加はメニューの`insert`から可能です。  \n",
    "ショートカットでもできるので、`Help`を参照してみてください。"
   ]
  },
  {
   "cell_type": "code",
   "execution_count": null,
   "metadata": {},
   "outputs": [],
   "source": [
    "# Shift + Enter 等で実行する。\n",
    "date"
   ]
  },
  {
   "cell_type": "code",
   "execution_count": null,
   "metadata": {},
   "outputs": [],
   "source": []
  },
  {
   "cell_type": "code",
   "execution_count": null,
   "metadata": {},
   "outputs": [],
   "source": []
  },
  {
   "cell_type": "code",
   "execution_count": null,
   "metadata": {},
   "outputs": [],
   "source": []
  },
  {
   "cell_type": "markdown",
   "metadata": {},
   "source": [
    "## 2. 各環境をセットアップする\n",
    "\n",
    "WEB開発に関係する可能性のある様々な環境を構築する手段（スクリプト）を用意しています。  \n",
    "ラインナップは以下のとおりです。\n",
    "<table>\n",
    "    <thead><td>項目</td><td>説明</td><td>インストール方法</td> </thead>\n",
    "    <tr><td>pytho3</td><td>python3.5</td><td>(インストール済み)</td></tr>\n",
    "    <tr><td>pip3</td><td>python3パッケージ管理用</td><td>(インストール済み)</td></tr>\n",
    "    <tr><td>Jupyter</td><td>jupyter</td><td>(インストール済み)</td></tr>\n",
    "    <tr><td>PostgreSQL</td><td>データベース</td><td>/vagrant/scripts/setup_postgres.sh</td></tr>\n",
    "    <tr><td>MySQL</td><td>データベース</td><td>/vagrant/scripts/setup_mysql.sh</td></tr>\n",
    "    <tr><td>Apache2&PHP</td><td>WEBサーバーとPHP7.3</td><td>/vagrant/scripts/setup_web_server.sh</td></tr>\n",
    "    <tr><td>MeCab</td><td>形態素解析機</td><td>/vagrant/scripts/setup_mecab.sh</td></tr>    \n",
    "    <tr><td>slim</td><td>PHP の軽量WEBフレームワーク</td><td>/vagrant/scripts/setup_slim.sh</td></tr>\n",
    "    <tr><td>Flask</td><td>Python の軽量WEBフレームワーク</td><td>/vagrant/scripts/setup_flask.sh</td></tr>\n",
    "    <tr><td>既存データ</td><td>PostgreSQL上にホノマラのデータをインポート</td><td>/vagrant/scripts/import_honomara_data.sh</td></tr>\n",
    "</table>"
   ]
  },
  {
   "cell_type": "markdown",
   "metadata": {},
   "source": [
    "### 2.1 PostgreSQLのインストール〜〜過去のデータを見てみよう〜〜\n",
    "#### 2.1.1 PostgreSQLのインストール"
   ]
  },
  {
   "cell_type": "code",
   "execution_count": null,
   "metadata": {},
   "outputs": [],
   "source": [
    "# Shift + Enter 等で実行してください\n",
    "set -eu\n",
    "\n",
    "pushd $(dirname $0)\n",
    "\n",
    "#install postgresql\n",
    "sudo apt install  postgresql-9.5 postgresql-server-dev-9.5 -y || :\n",
    "\n",
    "# enable password login for postgresql\n",
    "sudo sed -i 's/^local\\s*all\\s*all\\s*peer/local\\tall\\tall\\tmd5/g' /etc/postgresql/9.5/main/pg_hba.conf || :\n",
    "sudo systemctl restart postgresql \n",
    "\n",
    "\n",
    "if ! (python3 -c 'import psycopg2'); then\n",
    "  if ! (type pip3 > /dev/null 2>&1); then\n",
    "  ./setup_pip3.sh\n",
    "  fi\n",
    "  sudo pip3 install psycopg2\n",
    "fi\n",
    "\n",
    "popd"
   ]
  },
  {
   "cell_type": "markdown",
   "metadata": {},
   "source": [
    "最後の行に\n",
    "`/vagrant/notebooks`\n",
    "と表示されたら成功です。"
   ]
  },
  {
   "cell_type": "markdown",
   "metadata": {},
   "source": [
    "#### 2.1.2 過去のデータのインポート\n",
    "\n",
    "既存のデータをデータベースに導入するためににスクリプトを用意したので実行してください"
   ]
  },
  {
   "cell_type": "code",
   "execution_count": null,
   "metadata": {
    "scrolled": true
   },
   "outputs": [],
   "source": [
    "# Shift + Enter 等で実行してください。\n",
    "# 実行完了まで数分かかります。\n",
    "/vagrant/scripts/migrate_postgres.sh"
   ]
  },
  {
   "cell_type": "markdown",
   "metadata": {},
   "source": [
    "INSERT 0 1 \n",
    "と大量に表示されるはずです\n",
    "この処理には5分くらいかかると思います。\n",
    "（セルの左側の\\[\\]の中が＊ではなく数字になったら終了です。）\n",
    "それでは実際にデータを見てみましょう"
   ]
  },
  {
   "cell_type": "code",
   "execution_count": null,
   "metadata": {},
   "outputs": [],
   "source": [
    "# Shift + Enter 等で実行してください\n",
    "export PGPASSWORD=honomara\n",
    "psql -U honomara -d honomara -c 'SELECT * FROM person LIMIT 10;'"
   ]
  },
  {
   "cell_type": "markdown",
   "metadata": {},
   "source": [
    "それっぽいデータが見えたら成功です。"
   ]
  },
  {
   "cell_type": "markdown",
   "metadata": {},
   "source": [
    "（増改築を繰り返したテーブルに見える...、厳しい...）"
   ]
  },
  {
   "cell_type": "markdown",
   "metadata": {},
   "source": [
    "### 2.2 WEBサーバーのインストール \n",
    "\n",
    "今回は、古くから使われておりサークルの借りているWEBサーバーでも使われているApacheとPHPをインストールします。\n",
    "\n",
    "※\n",
    "「サーバー」という単語ですが、実は複数意味があります。  \n",
    "通常は「データセンターにおいてあるマシン」等を想像するかもしれません。  \n",
    "ただここでは、「ユーザー（クライアント）からリクエストを受け取って応答するソフトウェア」という意味で使っています。  "
   ]
  },
  {
   "cell_type": "code",
   "execution_count": null,
   "metadata": {},
   "outputs": [],
   "source": [
    "# Shift + Enter 等で実行してください。\n",
    "# 実行完了まで数分かかります。（セルの左側の[]の中が＊ではなく数字になったら終了です。）\n",
    "set -eu\n",
    "sudo apt-add-repository -y ppa:ondrej/php\n",
    "sudo apt update -y\n",
    "sudo apt install -y  apache2\n",
    "sudo apt install -y libapache2-mod-php7.3 php7.3 php7.3-cli php7.3-common\n",
    "sudo apt install -y php7.3-pgsql\n",
    "sudo apt install -y php7.3-mysql\n",
    "sudo chmod a+rw /var/www/html\n"
   ]
  },
  {
   "cell_type": "markdown",
   "metadata": {},
   "source": [
    "インストールできたら（セルの左の\\[\\]中に数字が表示されたら）ブラウザから\n",
    "\n",
    "[127.0.0.1:8080](http://127.0.0.1:8080)\n",
    "（または[localhost:8080](http://localhost:8080)）\n",
    "\n",
    "を開いてください。恐らく  \n",
    "\n",
    "Apache2 Ubuntu Default Page\n",
    "\n",
    "と書いたページが表示されるはずです。\n",
    "\n",
    "これは  \n",
    "仮想マシン中の/var/www/html/index.html  \n",
    "というファイルを表示したものです。\n",
    "\n",
    "\n",
    "\n",
    "自分で作成したページを表示したい場合は\n",
    "この/var/www/htmlというディレクトリにファイルを置くと、上記のURLで見ることができます。\n",
    "\n",
    "それでは、どうやってこのディレクトリにファイルを置くか、ですが、\n",
    "先程説明した様に、仮想マシン中の/vagrantディレクトリがこのgitのディレクトリと同期していることを利用します。\n",
    "\n",
    "以下例です。\n",
    "\n",
    "実行してみましょう。"
   ]
  },
  {
   "cell_type": "code",
   "execution_count": null,
   "metadata": {},
   "outputs": [],
   "source": [
    "cat > /vagrant/test.html <<EOF\n",
    "<!DOCTYPE html>\n",
    "<html lang=\"ja\">\n",
    "<head>\n",
    "    <meta charset=\"UTF-8\">\n",
    "    <title>テストタイトル</title>\n",
    "</head>\n",
    "<body>\n",
    "    <h1>これはテストです！！</h1>\n",
    "</body>\n",
    "</html>\n",
    "EOF\n",
    "cp  /vagrant/test.html /var/www/html/"
   ]
  },
  {
   "cell_type": "markdown",
   "metadata": {},
   "source": [
    "実行したら\n",
    "\n",
    "[127.0.0.1:8080/test.html](http://127.0.0.1:8080/test.html)\n",
    "\n",
    "を開いてみましょう\n",
    "\n",
    "これはテストです！！\n",
    "\n",
    "と大きく表示されていたら成功です。\n",
    "\n",
    "なお、ディレクトリが同期されているので、自分のパソコンのFinder等でディレクトリを見るとtest.htmlが新たに生成されている事が分かると思います。"
   ]
  },
  {
   "cell_type": "markdown",
   "metadata": {},
   "source": [
    "### 2.3 MySQLの設定"
   ]
  },
  {
   "cell_type": "markdown",
   "metadata": {},
   "source": [
    "既存のシステムはpostgresqlというデータベースで動いていましたが、mysqlの方が入門書等が充実しているので、新しいシステムではmysqlを使います。\n",
    "そこで、まずはmysqlをインストールするために以下のを実行してください。"
   ]
  },
  {
   "cell_type": "code",
   "execution_count": null,
   "metadata": {},
   "outputs": [],
   "source": [
    "\n",
    "echo \"mysql-server-5.7 mysql-server/root_password password honomara\" |sudo debconf-set-selections -\n",
    "echo \"mysql-server-5.7 mysql-server/root_password_again password honomara\" |sudo debconf-set-selections -\n",
    "sudo apt install  mysql-server-5.7 mysql-client-5.7 -y\n",
    "\n",
    "\n",
    "if ! (pythin3 -c 'import mysql.connector'); then\n",
    "  if ! (type pip3 > /dev/null 2>&1); then\n",
    "  ./setup_pip3.sh\n",
    "  fi\n",
    "  sudo pip3 install mysql-connector-python\n",
    "fi\n",
    "\n",
    "echo \"create db named honomara\"\n",
    "mysql  -u root --password='honomara' -e \"CREATE DATABASE IF NOT EXISTS honomara CHARACTER SET 'utf8';\"\n",
    "echo \"create user named honomara\"\n",
    "mysql  -u root --password='honomara' -e \"CREATE USER IF NOT EXISTS honomara IDENTIFIED BY 'honomara';\"\n",
    "echo \"add ownership to user honomara on db honomara\"\n",
    "mysql  -u root --password='honomara' -e \"GRANT ALL PRIVILEGES ON honomara.* TO  honomara;\"\n",
    "echo FINISH"
   ]
  },
  {
   "cell_type": "markdown",
   "metadata": {},
   "source": [
    "### 2.4MeCabの設定"
   ]
  },
  {
   "cell_type": "markdown",
   "metadata": {},
   "source": [
    "さて、次はMeCabという形態素解析機の導入です。\n",
    "これは自然言語処理に使われるソフトなのですが、今回は過去のデータ中の名前の整形のために使います。\n",
    "\n",
    "先程2.1.2でデータを見たときに以下の様な結果が得られたと思います。\n",
    "\n",
    "これ、なんだか無駄が多かったり、乱雑な気がしませんか？\n",
    "\n",
    "というわけで、これをきれいにして、姓、名、かなを抽出するために、ここでMeCabをインストールします。\n",
    "\n",
    "\n",
    "person_id |    name    |       kana       | after_name | fullname | sex | class | visible \n",
    ":-: |    :-:    |       :-:       | :-: | :-: | :-: | :-: | :-: \n",
    "        21 | 松田       | a4dea4c4a4c0     | 松田       | 松田拓朗 |   0 |     9 | t\n",
    "        46 | 神保       | a4b8a4f3a4dc     | 神保       | 神保友香 |   1 |     8 | f\n",
    "        48 | 高松       | a4bfa4aba4dea4c4 | 高松       | 高松誠一 |   0 |     8 | f\n",
    "        49 | 阪梨       | a4b5a4aba4caa4b7 | 阪梨       |          |   0 |     6 | f\n",
    "        50 | 伊藤（有） | a4a4a4c8a4a6     | 伊藤       | 伊藤有仁 |   0 |     6 | f\n",
    "        51 | 達         | a4bfa4c1         | 達         |          |   1 |     8 | f\n",
    "        53 | 丸山       | a4dea4eba4e4a4de | 丸山       | 丸山裕樹 |   0 |     5 | f\n",
    "        54 | 金原       | a4ada4f3a4d0a4e9 | 金原       |          |   0 |    10 | f\n",
    "        56 | 岡本       | a4aaa4aba4e2a4c8 | 岡本       | 岡本浩之 |   0 |     6 | f\n",
    "        57 | 高安       | a4bfa4aba4e4a4b9 | 高安       |          |   0 |    10 | f\n",
    "\n",
    "以下スクリプトを実行してください。\n",
    "\n"
   ]
  },
  {
   "cell_type": "code",
   "execution_count": null,
   "metadata": {},
   "outputs": [],
   "source": [
    "set -eu\n",
    "pushd $(dirname $0)\n",
    "\n",
    "sudo apt install mecab libmecab-dev mecab-ipadic-utf8 swig -y\n",
    "sudo pip3 install mecab-python3\n",
    "echo FINISHS"
   ]
  },
  {
   "cell_type": "markdown",
   "metadata": {},
   "source": [
    "### 2.5 cgiの設定 （[参考リンク](https://www.server-world.info/query?os=Ubuntu_16.04&p=httpd&f=5)）"
   ]
  },
  {
   "cell_type": "markdown",
   "metadata": {},
   "source": [
    "さて次は、Python用のCGIの導入です。\n",
    "\n",
    "雑な説明で申し訳ないですが、webサイトを動かすためにpythonを使えるようになります。"
   ]
  },
  {
   "cell_type": "code",
   "execution_count": null,
   "metadata": {
    "scrolled": true
   },
   "outputs": [],
   "source": [
    "sudo a2enmod cgi\n",
    "sudo systemctl restart apache2\n",
    "[ -d /usr/lib/cgi-bin ] && sudo rmdir /usr/lib/cgi-bin\n",
    "[ -d /vagrant/app ] || mkdir -p /vagrant/app\n",
    "[ -e /usr/lib/cgi-bin ] || sudo ln -s /vagrant/app /usr/lib/cgi-bin\n",
    "sudo chmod 755 /usr/lib/cgi-bin\n",
    "cat > /usr/lib/cgi-bin/test_script <<'EOF'\n",
    "#!/usr/bin/env python3\n",
    "print(\"Content-type: text/html\\n\\n\")\n",
    "print(\"Hello CGI\\n\")\n",
    "EOF\n",
    "chmod 705 /usr/lib/cgi-bin/test_script\n",
    "echo FINISH"
   ]
  },
  {
   "cell_type": "markdown",
   "metadata": {},
   "source": [
    "実行が終了したら、以下リンク\n",
    "\n",
    "http://127.0.0.1:8080/cgi-bin/test_script\n",
    "\n",
    "を開いて、Hello CGI と表示されていたら成功です。"
   ]
  },
  {
   "cell_type": "markdown",
   "metadata": {},
   "source": [
    "### 2.6Flaskのための各種設定"
   ]
  },
  {
   "cell_type": "markdown",
   "metadata": {},
   "source": [
    "最後に、今回開発中のアプリを動かすために必要なフレームワークやら設定やらをします。(以下全て実行してください)"
   ]
  },
  {
   "cell_type": "code",
   "execution_count": null,
   "metadata": {},
   "outputs": [],
   "source": [
    "# .htaccessを利用できるように変更\n",
    "sudo sed -i -E 's/(AllowOverride\\s+)None/\\1All/g' /etc/apache2/apache2.conf\n",
    "sudo sed -i -E 's/(AllowOverride\\s+)None/\\1All/g' /etc/apache2/conf-enabled/serve-cgi-bin.conf\n",
    "sudo a2enmod rewrite\n",
    "sudo systemctl restart apache2\n",
    "\n",
    "cat > /var/www/html/.htaccess <<EOF\n",
    "RewriteEngine On\n",
    "RewriteRule ^cgi-bin\\$ /cgi-bin/index.cgi [L,QSA]\n",
    "EOF\n",
    "chmod 604 /var/www/html/.htaccess"
   ]
  },
  {
   "cell_type": "code",
   "execution_count": null,
   "metadata": {},
   "outputs": [],
   "source": [
    "sudo pip3 install flask flask-sqlalchemy flask-wtf flask-bootstrap flask-login flask-bcrypt"
   ]
  },
  {
   "cell_type": "code",
   "execution_count": null,
   "metadata": {},
   "outputs": [],
   "source": [
    "sudo apt install -y language-pack-ja"
   ]
  },
  {
   "cell_type": "code",
   "execution_count": null,
   "metadata": {},
   "outputs": [],
   "source": [
    "git clone https://github.com/progrunner17/honomara_members_site /vagrant/app/honomara_members_site"
   ]
  },
  {
   "cell_type": "markdown",
   "metadata": {},
   "source": [
    "## 3.データの移行"
   ]
  },
  {
   "cell_type": "markdown",
   "metadata": {},
   "source": [
    "さて、最後に既存のデータを新しいデータベースに移行したら完了です。  \n",
    "以下、別のノートにデータ変換スクリプトをおいてあるので、上から準に実行してみてください。  \n",
    "(それぞれ __miscellaneous info__ 以外全て実行してください。)\n",
    "\n",
    "1. [member](member.ipynb)\n",
    "2. [training](training.ipynb)\n",
    "3. [after](after.ipynb)\n",
    "4. [participant](participant.ipynb)\n",
    "5. [race_and_results](race_and_result.ipynb)\n"
   ]
  },
  {
   "cell_type": "markdown",
   "metadata": {},
   "source": [
    "データの移行が完了したら  \n",
    "[http://127.0.0.1:8080/cgi-bin](http://127.0.0.1:8080/cgi-bin)　にアクセスすればそれっぽいサイトが見れると思います。\n",
    "\n",
    "現在、ログイン情報は admin:admin　または honomara:honomara です。  \n",
    "ログインをすると、データの登録や修正が可能になります。"
   ]
  },
  {
   "cell_type": "markdown",
   "metadata": {},
   "source": [
    "自分で開発を行う際は、一度 `/vagrant/app/honomara_members_site` を削除し    \n",
    "https://github.com/progrunner17/honomara_members_site を自分のgithubアカウントにforkして、    \n",
    "forkしたリポジトリを /vagrant/appにクローンすればよいと思います。"
   ]
  },
  {
   "cell_type": "markdown",
   "metadata": {},
   "source": [
    "なお、デバッグの際は `/var/log/apache2` 以下に複数ログがあるので見てみましょう。"
   ]
  },
  {
   "cell_type": "code",
   "execution_count": null,
   "metadata": {},
   "outputs": [],
   "source": [
    "tail -n 10 /var/log/apache2/access.log"
   ]
  },
  {
   "cell_type": "markdown",
   "metadata": {},
   "source": [
    "とはいえ、これでもかなり面倒かと思います。   \n",
    "なので開発するときは\n",
    "\n",
    "ターミナル上でappディレクトリに移動して、 `python3 app.py`を実行し、    \n",
    "[http://127.0.0.1:5000](http://127.0.0.1:5000) を見ると良いでしょう。   \n",
    "こうすると、デバッグ情報がWEB上で確認できるようになります。"
   ]
  },
  {
   "cell_type": "markdown",
   "metadata": {},
   "source": [
    "また、SQLAlchemyのモデルを直接試したい場合は、\n",
    "`/vagrant/app `ディレクトリで `python3` コマンドを実行した後\n",
    "\n",
    "以下の様に実行すると、コンソールから直接クエリを試せます。  \n",
    "Tab補完も効くので開発も捗ると思います。\n",
    "\n",
    "```python\n",
    "from honomara_members_site.model import Member\n",
    "Member.query.order_by(Member.year.desc()).limit(10).all()\n",
    "```"
   ]
  },
  {
   "cell_type": "markdown",
   "metadata": {},
   "source": [
    "なお、SQLを直接書きたい場合は\n",
    "以下のようにすればできます。\n",
    "\n",
    "```bash\n",
    "mysql -u root --password='honomara' -D honomara\n",
    "```"
   ]
  },
  {
   "cell_type": "markdown",
   "metadata": {},
   "source": [
    "また、mysqlが途中でフリーズした場合は\n",
    "\n",
    "`sudo systemctl restart mysql`  \n",
    "とすればなおると思います。"
   ]
  },
  {
   "cell_type": "markdown",
   "metadata": {},
   "source": [
    "プルリクお待ちしてまーす"
   ]
  }
 ],
 "metadata": {
  "kernelspec": {
   "display_name": "Bash",
   "language": "bash",
   "name": "bash"
  },
  "language_info": {
   "codemirror_mode": "shell",
   "file_extension": ".sh",
   "mimetype": "text/x-sh",
   "name": "bash"
  }
 },
 "nbformat": 4,
 "nbformat_minor": 2
}
