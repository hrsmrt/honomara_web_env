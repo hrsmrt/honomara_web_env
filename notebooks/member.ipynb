{
 "cells": [
  {
   "cell_type": "markdown",
   "metadata": {},
   "source": [
    "# メンバーのデータの移行\n",
    "### postgresqlへの接続"
   ]
  },
  {
   "cell_type": "code",
   "execution_count": null,
   "metadata": {},
   "outputs": [],
   "source": [
    "import psycopg2\n",
    "conn = psycopg2.connect('user=honomara dbname=honomara password=honomara')\n",
    "\n",
    "def get_data(sql):\n",
    "    with conn.cursor() as cur:\n",
    "        cur.execute(sql)\n",
    "        data = cur.fetchall()\n",
    "    return data\n",
    "\n",
    "def get_colname(table):\n",
    "    with conn.cursor() as cur:\n",
    "        cur.execute('SELECT * FROM {} LIMIT 1;'.format(table))\n",
    "        data = [col.name for col in cur.description]\n",
    "    return data\n",
    "\n",
    "def exec_transaction(sqls):\n",
    "    with conn.cursor() as cur:\n",
    "        for sql in sqls:\n",
    "            cur.execute(sql)\n",
    "    conn.commit()"
   ]
  },
  {
   "cell_type": "markdown",
   "metadata": {},
   "source": [
    "### mysqlへの接続"
   ]
  },
  {
   "cell_type": "code",
   "execution_count": null,
   "metadata": {},
   "outputs": [],
   "source": [
    "import mysql.connector\n",
    "conn2 = mysql.connector.connect(\n",
    "    host = 'localhost',\n",
    "    port = 3306,\n",
    "    user = 'honomara',\n",
    "    password =  'honomara',\n",
    "    database = 'honomara',\n",
    ")\n",
    "\n",
    "cur2 = conn2.cursor(dictionary=True)"
   ]
  },
  {
   "cell_type": "markdown",
   "metadata": {},
   "source": [
    "### member テーブルの作成"
   ]
  },
  {
   "cell_type": "code",
   "execution_count": null,
   "metadata": {},
   "outputs": [],
   "source": [
    "create_member_table = '''\n",
    "CREATE TABLE IF NOT EXISTS member (\n",
    "    `id`          INT          PRIMARY KEY AUTO_INCREMENT,\n",
    "    `family_name` VARCHAR(30)  NOT NULL,\n",
    "    `family_kana` VARCHAR(30),\n",
    "    `first_name`  VARCHAR(30)  NOT NULL,\n",
    "    `first_kana`  VARCHAR(30),\n",
    "    `show_name`   VARCHAR(30)  NOT NULL,\n",
    "    `kana`        VARCHAR(60)  NOT NULL, -- for index\n",
    "    `year`        INT          NOT NULL,\n",
    "    `sex`         INT          NOT NULL DEFAULT 0, -- 0=man, 1=woman\n",
    "    `visible`     BOOL         NOT NULL DEFAULT true\n",
    ");\n",
    "'''\n",
    "\n",
    "cur2.execute(create_member_table)\n",
    "conn2.commit()"
   ]
  },
  {
   "cell_type": "markdown",
   "metadata": {},
   "source": [
    "### postgresqlからmysqlへのデータの移行"
   ]
  },
  {
   "cell_type": "code",
   "execution_count": null,
   "metadata": {},
   "outputs": [],
   "source": [
    "import re\n",
    "import MeCab\n",
    "\n",
    "def name_len(name):\n",
    "    l=len(name)\n",
    "    l-=name.count(')')\n",
    "    l-=name.count('(')\n",
    "    l-=name.count('）')\n",
    "    l-=name.count('（')\n",
    "    return l\n",
    "colname = get_colname('person')\n",
    "mecab = MeCab.Tagger(\"-Ochasen\")\n",
    "regkana=re.compile(r'[ァ-ヶー]+') \n",
    "\n",
    "for fields in get_data('SELECT * FROM person ORDER BY class;'):\n",
    "    item = dict(zip(colname,fields))\n",
    "    if not item['name']:\n",
    "        name = item['fullname']\n",
    "    elif not item['fullname']:\n",
    "        name = item['name']\n",
    "    elif name_len(item['fullname']) > name_len(item['name']):\n",
    "        name = item['fullname']\n",
    "    else:\n",
    "        name = item['name']\n",
    "    fam_n = re.match(\"^[^（()）]+\" , item['after_name']).group()\n",
    "    \n",
    "    fir_n = re.match(\"[^（()）　]*$\" , name.replace(fam_n,''))\n",
    "    if not fir_n or len(fir_n.group()) == 0:\n",
    "        fir_n = '不明'\n",
    "        parse_name = fam_n\n",
    "    else:\n",
    "        fir_n = fir_n.group()\n",
    "        fir_n = fir_n.replace(' ','')\n",
    "        fir_n = fir_n.replace('　','')\n",
    "        parse_name = fam_n + fir_n\n",
    "    if re.match(\".*[（()）].*\" , name):\n",
    "        after_name = name\n",
    "    else:\n",
    "        after_name = item['after_name']\n",
    "    parse_result = mecab.parse(parse_name)#ふりがなを取得\n",
    "    kana_list = regkana.findall(parse_result.replace('\\n',' '))  #その行のカタカナを取り出す(list)\n",
    "    kana = ''.join(kana_list)\n",
    "    year = item['class'] + 2000 - 9\n",
    "    sex = '男' if item['sex'] == 0 else '女'  \n",
    "    cur2.execute('''\n",
    "    INSERT INTO member (id,family_name,first_name,show_name,kana,year,sex,visible)\n",
    "    VALUES (%s,%s,%s,%s,%s,%s,%s,%s);''',(item['person_id'],fam_n,fir_n,after_name,kana,year,item['sex'],item['visible']))\n",
    "conn2.commit()"
   ]
  },
  {
   "cell_type": "markdown",
   "metadata": {},
   "source": [
    "### カナ情報の修正"
   ]
  },
  {
   "cell_type": "code",
   "execution_count": null,
   "metadata": {
    "scrolled": true
   },
   "outputs": [],
   "source": [
    "import csv\n",
    "\n",
    "\n",
    "# update the csv file !!!!!!!!\n",
    "csv_path = \"/vagrant/notebooks/member.csv\"\n",
    "# in most case this path would be /vagrant/notebooks/member.csv or like that\n",
    "\n",
    "with open(csv_path,\"r\") as f:\n",
    "    reader = csv.DictReader(f)\n",
    "    for row in reader:\n",
    "        cur2.execute('''UPDATE member SET kana = '{}' WHERE id = {};'''.format(row['kana'], int(row['person_id'])))\n",
    "conn2.commit()"
   ]
  },
  {
   "cell_type": "markdown",
   "metadata": {},
   "source": [
    "#### かな情報の分割\n",
    "レガシーな問題で、カナを姓名つなげて生成していたので、その修正"
   ]
  },
  {
   "cell_type": "code",
   "execution_count": null,
   "metadata": {},
   "outputs": [],
   "source": [
    "import re\n",
    "import MeCab\n",
    "\n",
    "mecab = MeCab.Tagger(\"-Ochasen\")\n",
    "regkana=re.compile(r'[ァ-ヶー]+') \n",
    "\n",
    "csv_path = \"/vagrant/notebooks/member.csv\"\n",
    "# in most case this path would be /vagrant/notebooks/member.csv or like that\n",
    "\n",
    "with open(csv_path,\"r\") as f:\n",
    "    reader = csv.DictReader(f)\n",
    "    for row in reader:\n",
    "        dd = cur2.execute('''SELECT member.kana, member.family_name, member.first_name FROM member WHERE id = {} ;'''.format(int(row['person_id'])))\n",
    "        d = cur2.fetchall()\n",
    "        \n",
    "        parse_result = mecab.parse(\"{} {}\".format(d[0]['family_name'],d[0]['first_name']))\n",
    "        kana_list = regkana.findall(parse_result.replace('\\n',' '))\n",
    "#         print(kana_list,d)\n",
    "        if len(kana_list) == 0:\n",
    "            print(\"[PARSE ERROR]\", row['kana'],d,row)\n",
    "            continue\n",
    "        else:\n",
    "            if not re.match(kana_list[0], d[0]['kana']):\n",
    "                if len(kana_list) > 1 and re.search(kana_list[1] + '$',d[0]['kana']):\n",
    "                    first_kana = kana_list[1]\n",
    "                    family_kana = d[0]['kana'][:-len(first_kana)]\n",
    "                else:\n",
    "                    if row['family_kana']:\n",
    "                        family_kana = row['family_kana']\n",
    "                        first_kana = row['first_kana']\n",
    "                    else:\n",
    "                        continue\n",
    "            else:\n",
    "                family_kana = kana_list[0]\n",
    "                first_kana = d[0]['kana'][len(family_kana):]\n",
    "                cur2.execute('''UPDATE member SET family_kana = '{}', first_kana = '{}' WHERE id = {};'''.format(family_kana, first_kana, int(row['person_id'])))\n",
    "conn2.commit()"
   ]
  },
  {
   "cell_type": "code",
   "execution_count": null,
   "metadata": {},
   "outputs": [],
   "source": [
    "cur2.execute('''\n",
    "ALTER TABLE member DROP COLUMN kana;\n",
    "''')\n",
    "\n",
    "conn2.commit()"
   ]
  },
  {
   "cell_type": "markdown",
   "metadata": {},
   "source": [
    "## miscellaneous info"
   ]
  },
  {
   "cell_type": "code",
   "execution_count": null,
   "metadata": {},
   "outputs": [],
   "source": [
    "cur2.execute('SELECT * FROM member ORDER BY year DESC LIMIT 10;')\n",
    "cur2.fetchall()"
   ]
  },
  {
   "cell_type": "code",
   "execution_count": null,
   "metadata": {},
   "outputs": [],
   "source": [
    "cur2.execute('SHOW COLUMNS FROM member;')\n",
    "data = cur2.fetchall()\n",
    "for d in data:\n",
    "    print(d['Field'],d['Type'])"
   ]
  },
  {
   "cell_type": "code",
   "execution_count": null,
   "metadata": {},
   "outputs": [],
   "source": []
  }
 ],
 "metadata": {
  "kernelspec": {
   "display_name": "Python 3",
   "language": "python",
   "name": "python3"
  },
  "language_info": {
   "codemirror_mode": {
    "name": "ipython",
    "version": 3
   },
   "file_extension": ".py",
   "mimetype": "text/x-python",
   "name": "python",
   "nbconvert_exporter": "python",
   "pygments_lexer": "ipython3",
   "version": "3.5.2"
  }
 },
 "nbformat": 4,
 "nbformat_minor": 2
}
